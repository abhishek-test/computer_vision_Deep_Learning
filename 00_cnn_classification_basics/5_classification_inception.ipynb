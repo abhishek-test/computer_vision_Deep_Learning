{
 "cells": [
  {
   "cell_type": "code",
   "execution_count": 5,
   "metadata": {},
   "outputs": [],
   "source": [
    "# import modules\n",
    "import tensorflow as tf\n",
    "from tensorflow import keras\n",
    "\n",
    "from keras import layers, Sequential, utils\n",
    "from keras.applications import VGG19\n",
    "\n",
    "from keras.applications import InceptionV3\n",
    "\n",
    "import numpy as np\n",
    "import cv2"
   ]
  },
  {
   "cell_type": "code",
   "execution_count": 14,
   "metadata": {},
   "outputs": [
    {
     "name": "stdout",
     "output_type": "stream",
     "text": [
      "Found 23422 files belonging to 2 classes.\n",
      "Using 18738 files for training.\n",
      "Found 23422 files belonging to 2 classes.\n",
      "Using 4684 files for validation.\n",
      "['Cat', 'Dog']\n"
     ]
    }
   ],
   "source": [
    "# import dataset\n",
    "\n",
    "import pathlib\n",
    "\n",
    "data_dir = \"C:\\\\Abhishek_Data\\\\My_Data\\\\Datasets\\\\Classification\\\\PetImages\"\n",
    "data_dir = pathlib.Path(data_dir)\n",
    "\n",
    "batch_size = 16\n",
    "img_width = 224\n",
    "img_height = 224\n",
    "\n",
    "train_ds = keras.utils.image_dataset_from_directory(\n",
    "    data_dir, \n",
    "    validation_split=0.2,\n",
    "    subset=\"training\",\n",
    "    batch_size=batch_size, \n",
    "    image_size=(img_height, img_width),\n",
    "    seed=123\n",
    ")\n",
    "\n",
    "val_ds = keras.utils.image_dataset_from_directory(\n",
    "    data_dir, \n",
    "    validation_split=0.2,\n",
    "    subset=\"validation\",\n",
    "    batch_size=batch_size, \n",
    "    image_size=(img_height, img_width),\n",
    "    seed=123\n",
    ")\n",
    "\n",
    "class_names = train_ds.class_names\n",
    "num_classes = len(class_names)\n",
    "print(class_names)\n",
    "\n"
   ]
  },
  {
   "cell_type": "code",
   "execution_count": 16,
   "metadata": {},
   "outputs": [],
   "source": [
    "# data augmentation\n",
    "\n",
    "data_augmentation = Sequential(\n",
    "  [\n",
    "    layers.RandomFlip(\"horizontal\", input_shape=(img_height, img_width, 3)),\n",
    "    layers.RandomRotation(0.1),\n",
    "    layers.RandomZoom(0.1),\n",
    "    layers.RandomCrop(height=img_height, width=img_width)\n",
    "  ]\n",
    ")"
   ]
  },
  {
   "cell_type": "code",
   "execution_count": 17,
   "metadata": {},
   "outputs": [
    {
     "name": "stdout",
     "output_type": "stream",
     "text": [
      "Model: \"sequential_7\"\n",
      "_________________________________________________________________\n",
      " Layer (type)                Output Shape              Param #   \n",
      "=================================================================\n",
      " inception_v3 (Functional)   (None, 5, 5, 2048)        21802784  \n",
      "                                                                 \n",
      " flatten_2 (Flatten)         (None, 51200)             0         \n",
      "                                                                 \n",
      " dense_6 (Dense)             (None, 1024)              52429824  \n",
      "                                                                 \n",
      " batch_normalization_288 (Ba  (None, 1024)             4096      \n",
      " tchNormalization)                                               \n",
      "                                                                 \n",
      " activation_288 (Activation)  (None, 1024)             0         \n",
      "                                                                 \n",
      " dropout_4 (Dropout)         (None, 1024)              0         \n",
      "                                                                 \n",
      " dense_7 (Dense)             (None, 64)                65600     \n",
      "                                                                 \n",
      " batch_normalization_289 (Ba  (None, 64)               256       \n",
      " tchNormalization)                                               \n",
      "                                                                 \n",
      " activation_289 (Activation)  (None, 64)               0         \n",
      "                                                                 \n",
      " dropout_5 (Dropout)         (None, 64)                0         \n",
      "                                                                 \n",
      " dense_8 (Dense)             (None, 2)                 130       \n",
      "                                                                 \n",
      " batch_normalization_290 (Ba  (None, 2)                8         \n",
      " tchNormalization)                                               \n",
      "                                                                 \n",
      " activation_290 (Activation)  (None, 2)                0         \n",
      "                                                                 \n",
      "=================================================================\n",
      "Total params: 74,302,698\n",
      "Trainable params: 52,497,734\n",
      "Non-trainable params: 21,804,964\n",
      "_________________________________________________________________\n"
     ]
    }
   ],
   "source": [
    "model = Sequential()\n",
    "#model.add(data_augmentation)\n",
    "model.add(InceptionV3(include_top=False, weights=\"imagenet\", input_shape=(img_height, img_width, 3)))\n",
    "\n",
    "for layer in model.layers:\n",
    "    layer.trainable = False\n",
    "\n",
    "model.add(layers.Flatten())\n",
    "\n",
    "model.add(layers.Dense(1024))\n",
    "model.add(layers.BatchNormalization())\n",
    "model.add(layers.Activation(\"relu\"))\n",
    "model.add(layers.Dropout(0.2))\n",
    "\n",
    "model.add(layers.Dense(64))\n",
    "model.add(layers.BatchNormalization())\n",
    "model.add(layers.Activation(\"relu\"))\n",
    "model.add(layers.Dropout(0.2))\n",
    "\n",
    "model.add(layers.Dense(2))\n",
    "model.add(layers.BatchNormalization())\n",
    "model.add(layers.Activation(\"softmax\"))\n",
    "\n",
    "model.compile(optimizer='adam', \n",
    "              loss=tf.keras.losses.SparseCategoricalCrossentropy(), \n",
    "              metrics=['accuracy'])\n",
    "\n",
    "model.summary()\n"
   ]
  },
  {
   "cell_type": "code",
   "execution_count": 18,
   "metadata": {},
   "outputs": [
    {
     "name": "stdout",
     "output_type": "stream",
     "text": [
      "1172/1172 [==============================] - 189s 157ms/step - loss: 0.6146 - accuracy: 0.6602 - val_loss: 0.5664 - val_accuracy: 0.7105\n"
     ]
    }
   ],
   "source": [
    "# model training (adding and retraining top classification layers not fine tuning)\n",
    "import datetime, os\n",
    "\n",
    "logdir = os.path.join(\"logs\", datetime.datetime.now().strftime(\"%Y%m%d-%H%M%S\"))\n",
    "tensorboard_callback = tf.keras.callbacks.TensorBoard(log_dir=logdir, histogram_freq=1)\n",
    "\n",
    "epochs=1\n",
    "history = model.fit(\n",
    "  train_ds,\n",
    "  validation_data=val_ds,\n",
    "  epochs=epochs,\n",
    "  callbacks=[tensorboard_callback]\n",
    ")"
   ]
  },
  {
   "cell_type": "code",
   "execution_count": 19,
   "metadata": {},
   "outputs": [
    {
     "name": "stdout",
     "output_type": "stream",
     "text": [
      "Confusion Matrix\n"
     ]
    },
    {
     "data": {
      "image/png": "[encoded data removed]",
      "text/plain": [
       "<Figure size 640x480 with 2 Axes>"
      ]
     },
     "metadata": {},
     "output_type": "display_data"
    },
    {
     "name": "stdout",
     "output_type": "stream",
     "text": [
      "Classification Report\n",
      "              precision    recall  f1-score   support\n",
      "\n",
      "         Cat       0.72      0.66      0.69      2292\n",
      "         Dog       0.70      0.76      0.73      2392\n",
      "\n",
      "    accuracy                           0.71      4684\n",
      "   macro avg       0.71      0.71      0.71      4684\n",
      "weighted avg       0.71      0.71      0.71      4684\n",
      "\n"
     ]
    }
   ],
   "source": [
    "# accuracy metrics using model in memory (not saved on disk)\n",
    "from sklearn.metrics import classification_report, confusion_matrix, ConfusionMatrixDisplay\n",
    "import matplotlib.pyplot as plt\n",
    "\n",
    "target_names = val_ds.class_names \n",
    "\n",
    "y_true = []\n",
    "y_pred = []\n",
    "\n",
    "for images, labels in val_ds:\n",
    "    y_true = y_true + labels.numpy().tolist() \n",
    "\n",
    "    temp_pred = model.predict(images, verbose=0)\n",
    "    temp_pred = np.argmax(temp_pred, axis = 1)\n",
    "    y_pred = y_pred + temp_pred.tolist()\n",
    "\n",
    "print('Confusion Matrix')  \n",
    "ConfusionMatrixDisplay.from_predictions(y_true, y_pred, display_labels=val_ds.class_names)\n",
    "plt.show()\n",
    "\n",
    "\n",
    "print('Classification Report') \n",
    "print(classification_report(y_true, y_pred, target_names=target_names))"
   ]
  }
 ],
 "metadata": {
  "kernelspec": {
   "display_name": "tensorflow",
   "language": "python",
   "name": "python3"
  },
  "language_info": {
   "codemirror_mode": {
    "name": "ipython",
    "version": 3
   },
   "file_extension": ".py",
   "mimetype": "text/x-python",
   "name": "python",
   "nbconvert_exporter": "python",
   "pygments_lexer": "ipython3",
   "version": "3.9.16"
  },
  "orig_nbformat": 4
 },
 "nbformat": 4,
 "nbformat_minor": 2
}
