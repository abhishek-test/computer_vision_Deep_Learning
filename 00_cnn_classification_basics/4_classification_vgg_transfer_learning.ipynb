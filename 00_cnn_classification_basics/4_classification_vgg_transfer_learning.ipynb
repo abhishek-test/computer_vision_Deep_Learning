{
 "cells": [
  {
   "cell_type": "code",
   "execution_count": 6,
   "metadata": {},
   "outputs": [],
   "source": [
    "# import modules\n",
    "import tensorflow as tf\n",
    "from tensorflow import keras\n",
    "\n",
    "from keras import layers, Sequential, utils\n",
    "from keras.applications import VGG19\n",
    "\n",
    "from keras.applications import ResNet50\n",
    "\n",
    "import numpy as np\n",
    "import cv2"
   ]
  },
  {
   "cell_type": "code",
   "execution_count": 7,
   "metadata": {},
   "outputs": [
    {
     "name": "stdout",
     "output_type": "stream",
     "text": [
      "Found 23422 files belonging to 2 classes.\n",
      "Using 18738 files for training.\n",
      "Found 23422 files belonging to 2 classes.\n",
      "Using 4684 files for validation.\n",
      "['Cat', 'Dog']\n"
     ]
    }
   ],
   "source": [
    "# import dataset\n",
    "\n",
    "import pathlib\n",
    "\n",
    "data_dir = \"C:\\\\Abhishek_Data\\\\My_Data\\\\Datasets\\\\Classification\\\\PetImages\"\n",
    "data_dir = pathlib.Path(data_dir)\n",
    "\n",
    "batch_size = 16\n",
    "img_width = 224\n",
    "img_height = 224\n",
    "\n",
    "train_ds = keras.utils.image_dataset_from_directory(\n",
    "    data_dir, \n",
    "    validation_split=0.2,\n",
    "    subset=\"training\",\n",
    "    batch_size=batch_size, \n",
    "    image_size=(img_height, img_width),\n",
    "    seed=123\n",
    ")\n",
    "\n",
    "val_ds = keras.utils.image_dataset_from_directory(\n",
    "    data_dir, \n",
    "    validation_split=0.2,\n",
    "    subset=\"validation\",\n",
    "    batch_size=batch_size, \n",
    "    image_size=(img_height, img_width),\n",
    "    seed=123\n",
    ")\n",
    "\n",
    "class_names = train_ds.class_names\n",
    "num_classes = len(class_names)\n",
    "print(class_names)\n",
    "\n"
   ]
  },
  {
   "cell_type": "code",
   "execution_count": 8,
   "metadata": {},
   "outputs": [
    {
     "data": {
      "text/plain": [
       "Text(0, 0.5, '# Images')"
      ]
     },
     "execution_count": 8,
     "metadata": {},
     "output_type": "execute_result"
    },
    {
     "data": {
      "image/png": "[encoded data removed]",
      "text/plain": [
       "<Figure size 640x480 with 1 Axes>"
      ]
     },
     "metadata": {},
     "output_type": "display_data"
    }
   ],
   "source": [
    "# EDA on image data\n",
    "\n",
    "import os\n",
    "from matplotlib import pyplot as plt\n",
    "\n",
    "# Specify the directory path\n",
    "directory_path = \"C:\\\\Abhishek_Data\\\\My_Data\\\\Datasets\\\\Classification\\\\PetImages\"\n",
    "class_dictionary = {}\n",
    "\n",
    "# Walk through the directory and its subdirectories\n",
    "for root, dirs, files in os.walk(directory_path):\n",
    "    for folder in dirs:\n",
    "        img_count_per_class = len(os.listdir(os.path.join(root, folder))) \n",
    "        class_dictionary[folder] = img_count_per_class\n",
    "\n",
    "\n",
    "plt.bar(class_dictionary.keys(), class_dictionary.values(), width = .5)\n",
    "plt.title(\"Number of Images by Class\")\n",
    "plt.xlabel('Class Name')\n",
    "plt.ylabel('# Images')"
   ]
  },
  {
   "cell_type": "code",
   "execution_count": 9,
   "metadata": {},
   "outputs": [],
   "source": [
    "# data augmentation\n",
    "\n",
    "data_augmentation = Sequential(\n",
    "  [\n",
    "    layers.RandomFlip(\"horizontal\", input_shape=(img_height, img_width, 3)),\n",
    "    layers.RandomRotation(0.1),\n",
    "    layers.RandomZoom(0.1),\n",
    "    layers.RandomCrop(height=img_height, width=img_width)\n",
    "  ]\n",
    ")"
   ]
  },
  {
   "cell_type": "code",
   "execution_count": 10,
   "metadata": {},
   "outputs": [
    {
     "name": "stdout",
     "output_type": "stream",
     "text": [
      "Model: \"sequential_5\"\n",
      "_________________________________________________________________\n",
      " Layer (type)                Output Shape              Param #   \n",
      "=================================================================\n",
      " vgg19 (Functional)          (None, 7, 7, 512)         20024384  \n",
      "                                                                 \n",
      " flatten (Flatten)           (None, 25088)             0         \n",
      "                                                                 \n",
      " dense (Dense)               (None, 1024)              25691136  \n",
      "                                                                 \n",
      " batch_normalization (BatchN  (None, 1024)             4096      \n",
      " ormalization)                                                   \n",
      "                                                                 \n",
      " activation (Activation)     (None, 1024)              0         \n",
      "                                                                 \n",
      " dropout (Dropout)           (None, 1024)              0         \n",
      "                                                                 \n",
      " dense_1 (Dense)             (None, 64)                65600     \n",
      "                                                                 \n",
      " batch_normalization_1 (Batc  (None, 64)               256       \n",
      " hNormalization)                                                 \n",
      "                                                                 \n",
      " activation_1 (Activation)   (None, 64)                0         \n",
      "                                                                 \n",
      " dropout_1 (Dropout)         (None, 64)                0         \n",
      "                                                                 \n",
      " dense_2 (Dense)             (None, 2)                 130       \n",
      "                                                                 \n",
      " batch_normalization_2 (Batc  (None, 2)                8         \n",
      " hNormalization)                                                 \n",
      "                                                                 \n",
      " activation_2 (Activation)   (None, 2)                 0         \n",
      "                                                                 \n",
      "=================================================================\n",
      "Total params: 45,785,610\n",
      "Trainable params: 25,759,046\n",
      "Non-trainable params: 20,026,564\n",
      "_________________________________________________________________\n"
     ]
    }
   ],
   "source": [
    "model = Sequential()\n",
    "#model.add(data_augmentation)\n",
    "model.add(VGG19(include_top=False, weights=\"imagenet\", input_shape=(img_height, img_width, 3)))\n",
    "\n",
    "for layer in model.layers:\n",
    "    layer.trainable = False\n",
    "\n",
    "model.add(layers.Flatten())\n",
    "\n",
    "model.add(layers.Dense(1024))\n",
    "model.add(layers.BatchNormalization())\n",
    "model.add(layers.Activation(\"relu\"))\n",
    "model.add(layers.Dropout(0.2))\n",
    "\n",
    "model.add(layers.Dense(64))\n",
    "model.add(layers.BatchNormalization())\n",
    "model.add(layers.Activation(\"relu\"))\n",
    "model.add(layers.Dropout(0.2))\n",
    "\n",
    "model.add(layers.Dense(2))\n",
    "model.add(layers.BatchNormalization())\n",
    "model.add(layers.Activation(\"softmax\"))\n",
    "\n",
    "model.compile(optimizer='adam', \n",
    "              loss=tf.keras.losses.SparseCategoricalCrossentropy(), \n",
    "              metrics=['accuracy'])\n",
    "\n",
    "model.summary()\n"
   ]
  },
  {
   "cell_type": "code",
   "execution_count": 11,
   "metadata": {},
   "outputs": [
    {
     "name": "stdout",
     "output_type": "stream",
     "text": [
      "1172/1172 [==============================] - 508s 420ms/step - loss: 0.1739 - accuracy: 0.9476 - val_loss: 0.0974 - val_accuracy: 0.9667\n"
     ]
    }
   ],
   "source": [
    "# model training (adding and retraining top classification layers not fine tuning)\n",
    "import datetime, os\n",
    "\n",
    "logdir = os.path.join(\"logs\", datetime.datetime.now().strftime(\"%Y%m%d-%H%M%S\"))\n",
    "tensorboard_callback = tf.keras.callbacks.TensorBoard(log_dir=logdir, histogram_freq=1)\n",
    "\n",
    "epochs=1\n",
    "history = model.fit(\n",
    "  train_ds,\n",
    "  validation_data=val_ds,\n",
    "  epochs=epochs,\n",
    "  callbacks=[tensorboard_callback]\n",
    ")"
   ]
  },
  {
   "cell_type": "code",
   "execution_count": 12,
   "metadata": {},
   "outputs": [
    {
     "name": "stdout",
     "output_type": "stream",
     "text": [
      "Confusion Matrix\n"
     ]
    },
    {
     "data": {
      "image/png": "[encoded data removed]",
      "text/plain": [
       "<Figure size 640x480 with 2 Axes>"
      ]
     },
     "metadata": {},
     "output_type": "display_data"
    },
    {
     "name": "stdout",
     "output_type": "stream",
     "text": [
      "Classification Report\n",
      "              precision    recall  f1-score   support\n",
      "\n",
      "         Cat       0.95      0.98      0.97      2292\n",
      "         Dog       0.98      0.96      0.97      2392\n",
      "\n",
      "    accuracy                           0.97      4684\n",
      "   macro avg       0.97      0.97      0.97      4684\n",
      "weighted avg       0.97      0.97      0.97      4684\n",
      "\n"
     ]
    }
   ],
   "source": [
    "# accuracy metrics using model in memory (not saved on disk)\n",
    "from sklearn.metrics import classification_report, confusion_matrix, ConfusionMatrixDisplay\n",
    "import matplotlib.pyplot as plt\n",
    "\n",
    "target_names = val_ds.class_names \n",
    "\n",
    "y_true = []\n",
    "y_pred = []\n",
    "\n",
    "for images, labels in val_ds:\n",
    "    y_true = y_true + labels.numpy().tolist() \n",
    "\n",
    "    temp_pred = model.predict(images, verbose=0)\n",
    "    temp_pred = np.argmax(temp_pred, axis = 1)\n",
    "    y_pred = y_pred + temp_pred.tolist()\n",
    "\n",
    "print('Confusion Matrix')  \n",
    "ConfusionMatrixDisplay.from_predictions(y_true, y_pred, display_labels=val_ds.class_names)\n",
    "plt.show()\n",
    "\n",
    "\n",
    "print('Classification Report') \n",
    "print(classification_report(y_true, y_pred, target_names=target_names))"
   ]
  },
  {
   "cell_type": "code",
   "execution_count": null,
   "metadata": {},
   "outputs": [],
   "source": [
    "# save as tf SavedModel (pb) -> does not work with 3 MB of file (tflite)\n",
    "vgg_save_path = \"C:\\\\Abhishek_Data\\\\My_Data\\\\VSC_Workspace\\\\Python\\\\classification\\\\trained_models\\\\saved_model_vgg_tl_with_data_aug_bn_2_dense\"\n",
    "tf.saved_model.save(model, vgg_save_path)"
   ]
  },
  {
   "cell_type": "code",
   "execution_count": null,
   "metadata": {},
   "outputs": [],
   "source": [
    "# accuracy metric calculation : precision, Recall, Confusion Matrix, F1-Score\n",
    "\n",
    "from sklearn.metrics import classification_report, confusion_matrix\n",
    "from keras.models import load_model\n",
    "\n",
    "modelOnDisk = tf.saved_model.load('C:\\\\Abhishek_Data\\\\My_Data\\\\VSC_Workspace\\\\Python\\\\classification\\\\trained_models\\\\saved_model_vgg_tl_with_data_aug_bn_2_dense')\n",
    "\n",
    "target_names = val_ds.class_names\n",
    "\n",
    "pred_result = modelOnDisk.predict(val_ds)\n",
    "y_pred = np.argmax(pred_result, axis = 1) \n",
    "\n",
    "y_true = []\n",
    "for image, labels in val_ds:\n",
    "    y_true = y_true + labels.numpy().tolist()\n",
    "\n",
    "print('Confusion Matrix')  \n",
    "print(confusion_matrix(y_true, y_pred))  \n",
    "\n",
    "print('Classification Report') \n",
    "print(classification_report(y_true, y_pred, target_names=target_names))"
   ]
  },
  {
   "cell_type": "code",
   "execution_count": null,
   "metadata": {},
   "outputs": [],
   "source": [
    "https://forums.fast.ai/t/vgg-strength-and-limitations/1218/5\n",
    "\n",
    "https://towardsdatascience.com/neural-network-architectures-156e5bad51ba   safaf\n",
    "\n"
   ]
  }
 ],
 "metadata": {
  "kernelspec": {
   "display_name": "tensorflow",
   "language": "python",
   "name": "python3"
  },
  "language_info": {
   "codemirror_mode": {
    "name": "ipython",
    "version": 3
   },
   "file_extension": ".py",
   "mimetype": "text/x-python",
   "name": "python",
   "nbconvert_exporter": "python",
   "pygments_lexer": "ipython3",
   "version": "3.9.16"
  },
  "orig_nbformat": 4
 },
 "nbformat": 4,
 "nbformat_minor": 2
}
