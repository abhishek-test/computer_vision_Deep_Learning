{
 "cells": [
  {
   "cell_type": "code",
   "execution_count": 1,
   "metadata": {},
   "outputs": [],
   "source": [
    "from ultralytics import YOLO\n",
    "import cv2\n",
    "import numpy as np\n",
    "from matplotlib import pyplot as plt"
   ]
  },
  {
   "cell_type": "code",
   "execution_count": null,
   "metadata": {},
   "outputs": [],
   "source": [
    "# training pipeline\n",
    "model = YOLO('yolov8n-seg.pt')\n",
    "model.train(data='C:\\\\Abhishek Data\\\\VSCode_Workspace\\\\Python\\\\DL_Practice\\\\Yolov8_Seg\\\\data\\\\config.yaml', epochs=500, imgsz=640)"
   ]
  },
  {
   "cell_type": "code",
   "execution_count": 3,
   "metadata": {},
   "outputs": [
    {
     "name": "stdout",
     "output_type": "stream",
     "text": [
      "\n",
      "0: 640x640 12 spades, 28.0ms\n",
      "Speed: 4.0ms preprocess, 28.0ms inference, 68.6ms postprocess per image at shape (1, 3, 640, 640)\n"
     ]
    },
    {
     "data": {
      "text/plain": [
       "<Figure size 640x480 with 1 Axes>"
      ]
     },
     "metadata": {},
     "output_type": "display_data"
    }
   ],
   "source": [
    "\n",
    "# Load YOLOv8 model\n",
    "model_inf = YOLO(\"C:\\\\Abhishek Data\\\\VSCode_Workspace\\\\Python\\\\DL_Practice\\\\Yolov8_Seg\\\\data\\\\runs\\\\segment\\\\train2\\\\weights\\\\best.pt\")\n",
    "\n",
    "# Load the original image\n",
    "original_image = cv2.imread(\"spade_10.jpg\")\n",
    "height, width = original_image.shape[:2]\n",
    "\n",
    "# Resize the input image to the model's expected input size (e.g., 640x640)\n",
    "resized_image = cv2.resize(original_image, (640, 640))\n",
    "\n",
    "# Run inference on the resized image\n",
    "results = model_inf(resized_image)  # Inference returns a results object containing predictions\n",
    "\n",
    "# Extract the predicted masks\n",
    "masks = results[0].masks.data.cpu().numpy()  # Shape: (num_objects, height, width)\n",
    "\n",
    "# Resize the masks to the original image size\n",
    "resized_masks = []\n",
    "for mask in masks:\n",
    "    # Convert to binary mask (thresholding)\n",
    "    binary_mask = (mask > 0.5).astype(np.uint8)  # Assuming threshold is 0.5\n",
    "    \n",
    "    # Resize each mask to match the original image size\n",
    "    resized_mask = cv2.resize(binary_mask, (width, height), interpolation=cv2.INTER_LINEAR)\n",
    "    resized_masks.append(resized_mask)\n",
    "\n",
    "# Now, you can combine or visualize the resized masks\n",
    "# For example, you can overlay all the resized masks onto the original image\n",
    "overlay_image = original_image.copy()\n",
    "\n",
    "# Combine all masks into a single mask (OR operation)\n",
    "combined_mask = np.zeros((height, width), dtype=np.uint8)\n",
    "for resized_mask in resized_masks:\n",
    "    combined_mask = np.bitwise_or(combined_mask, resized_mask)\n",
    "\n",
    "# Create a color mask for visualization\n",
    "color_mask = np.zeros_like(overlay_image)\n",
    "color_mask[:, :, 0] = combined_mask * 255  # Red channel\n",
    "color_mask[:, :, 1] = combined_mask * 0    # Green channel\n",
    "color_mask[:, :, 2] = combined_mask * 0    # Blue channel\n",
    "\n",
    "# Blend the color mask with the original image\n",
    "result_image = cv2.addWeighted(overlay_image, 1, color_mask, 0.5, 0)\n",
    "\n",
    "# Display the final image with the overlay\n",
    "plt.imshow(cv2.cvtColor(result_image, cv2.COLOR_BGR2RGB))\n",
    "plt.axis(\"off\")\n",
    "plt.show()\n"
   ]
  },
  {
   "cell_type": "code",
   "execution_count": 4,
   "metadata": {},
   "outputs": [
    {
     "name": "stdout",
     "output_type": "stream",
     "text": [
      "\n",
      "0: 640x640 12 spades, 30.8ms\n",
      "Speed: 4.8ms preprocess, 30.8ms inference, 68.4ms postprocess per image at shape (1, 3, 640, 640)\n"
     ]
    }
   ],
   "source": [
    "\n",
    "# Load YOLOv8 model\n",
    "model_inf = YOLO(\"C:\\\\Abhishek Data\\\\VSCode_Workspace\\\\Python\\\\DL_Practice\\\\Yolov8_Seg\\\\data\\\\runs\\\\segment\\\\train2\\\\weights\\\\best.pt\")\n",
    "\n",
    "# Load the original image\n",
    "original_image = cv2.imread(\"spade_10.jpg\")\n",
    "height, width = original_image.shape[:2]\n",
    "\n",
    "# Resize the input image to the model's expected input size (e.g., 640x640)\n",
    "resized_image = cv2.resize(original_image, (640, 640))\n",
    "\n",
    "# Run inference on the resized image\n",
    "results = model_inf(resized_image)  # Inference returns a results object containing predictions\n",
    "\n",
    "# Extract the predicted masks\n",
    "masks = results[0].masks.data.cpu().numpy()  # Shape: (num_objects, height, width)\n",
    "\n",
    "# Resize the masks to the original image size\n",
    "resized_masks = []\n",
    "for mask in masks:\n",
    "    # Convert to binary mask (thresholding)\n",
    "    binary_mask = (mask > 0.5).astype(np.uint8)  # Assuming threshold is 0.5\n",
    "    \n",
    "    # Resize each mask to match the original image size\n",
    "    resized_mask = cv2.resize(binary_mask, (width, height), interpolation=cv2.INTER_LINEAR)\n",
    "    resized_masks.append(resized_mask)\n",
    "\n",
    "# Combine all resized masks into a single binary mask (using OR operation)\n",
    "final_binary_mask = np.zeros((height, width), dtype=np.uint8)\n",
    "for resized_mask in resized_masks:\n",
    "    final_binary_mask = np.bitwise_or(final_binary_mask, resized_mask)\n",
    "\n",
    "# Save or display the final binary mask\n",
    "cv2.imwrite(\"final_binary_mask.png\", final_binary_mask * 255)  # Save as PNG (multiplied by 255 for visibility)\n",
    "\n",
    "# Display the final binary mask\n",
    "cv2.imshow(\"Final Binary Mask\", final_binary_mask * 255)  # Displaying in 255 format for visibility\n",
    "cv2.waitKey(0)\n",
    "cv2.destroyAllWindows()\n"
   ]
  }
 ],
 "metadata": {
  "kernelspec": {
   "display_name": "Python 3",
   "language": "python",
   "name": "python3"
  },
  "language_info": {
   "codemirror_mode": {
    "name": "ipython",
    "version": 3
   },
   "file_extension": ".py",
   "mimetype": "text/x-python",
   "name": "python",
   "nbconvert_exporter": "python",
   "pygments_lexer": "ipython3",
   "version": "3.12.5"
  }
 },
 "nbformat": 4,
 "nbformat_minor": 2
}
