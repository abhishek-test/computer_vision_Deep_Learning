{
 "cells": [
  {
   "cell_type": "code",
   "execution_count": 4,
   "metadata": {},
   "outputs": [
    {
     "name": "stdout",
     "output_type": "stream",
     "text": [
      "Model loaded.\n"
     ]
    },
    {
     "ename": "InvalidArgumentError",
     "evalue": "input_2:0 is both fed and fetched.",
     "output_type": "error",
     "traceback": [
      "\u001b[1;31m---------------------------------------------------------------------------\u001b[0m",
      "\u001b[1;31mInvalidArgumentError\u001b[0m                      Traceback (most recent call last)",
      "\u001b[1;32mc:\\Abhishek_Data\\My_Data\\VSC_Workspace\\Python\\basics_detection\\00_keras_vis.ipynb Cell 1\u001b[0m line \u001b[0;36m3\n\u001b[0;32m     <a href='vscode-notebook-cell:/c%3A/Abhishek_Data/My_Data/VSC_Workspace/Python/basics_detection/00_keras_vis.ipynb#W0sZmlsZQ%3D%3D?line=27'>28</a>\u001b[0m losses \u001b[39m=\u001b[39m [\n\u001b[0;32m     <a href='vscode-notebook-cell:/c%3A/Abhishek_Data/My_Data/VSC_Workspace/Python/basics_detection/00_keras_vis.ipynb#W0sZmlsZQ%3D%3D?line=28'>29</a>\u001b[0m     (ActivationMaximization(layer_dict[layer_name], output_class), \u001b[39m2\u001b[39m),\n\u001b[0;32m     <a href='vscode-notebook-cell:/c%3A/Abhishek_Data/My_Data/VSC_Workspace/Python/basics_detection/00_keras_vis.ipynb#W0sZmlsZQ%3D%3D?line=29'>30</a>\u001b[0m     (LPNorm(model\u001b[39m.\u001b[39minput), \u001b[39m10\u001b[39m),\n\u001b[0;32m     <a href='vscode-notebook-cell:/c%3A/Abhishek_Data/My_Data/VSC_Workspace/Python/basics_detection/00_keras_vis.ipynb#W0sZmlsZQ%3D%3D?line=30'>31</a>\u001b[0m     (TotalVariation(model\u001b[39m.\u001b[39minput), \u001b[39m10\u001b[39m)\n\u001b[0;32m     <a href='vscode-notebook-cell:/c%3A/Abhishek_Data/My_Data/VSC_Workspace/Python/basics_detection/00_keras_vis.ipynb#W0sZmlsZQ%3D%3D?line=31'>32</a>\u001b[0m ]\n\u001b[0;32m     <a href='vscode-notebook-cell:/c%3A/Abhishek_Data/My_Data/VSC_Workspace/Python/basics_detection/00_keras_vis.ipynb#W0sZmlsZQ%3D%3D?line=32'>33</a>\u001b[0m opt \u001b[39m=\u001b[39m Optimizer(model\u001b[39m.\u001b[39minput, losses)\n\u001b[1;32m---> <a href='vscode-notebook-cell:/c%3A/Abhishek_Data/My_Data/VSC_Workspace/Python/basics_detection/00_keras_vis.ipynb#W0sZmlsZQ%3D%3D?line=33'>34</a>\u001b[0m opt\u001b[39m.\u001b[39;49mminimize(max_iter\u001b[39m=\u001b[39;49m\u001b[39m500\u001b[39;49m, verbose\u001b[39m=\u001b[39;49m\u001b[39mTrue\u001b[39;49;00m, input_modifiers\u001b[39m=\u001b[39;49m[Jitter()], callbacks\u001b[39m=\u001b[39;49m[GifGenerator(\u001b[39m'\u001b[39;49m\u001b[39mopt_progress\u001b[39;49m\u001b[39m'\u001b[39;49m)])\n",
      "File \u001b[1;32mc:\\Users\\abhishek.sri\\AppData\\Local\\anaconda3\\envs\\pytorch\\Lib\\site-packages\\vis\\optimizer.py:143\u001b[0m, in \u001b[0;36mOptimizer.minimize\u001b[1;34m(self, seed_input, max_iter, input_modifiers, grad_modifier, callbacks, verbose)\u001b[0m\n\u001b[0;32m    140\u001b[0m     seed_input \u001b[39m=\u001b[39m modifier\u001b[39m.\u001b[39mpre(seed_input)\n\u001b[0;32m    142\u001b[0m \u001b[39m# 0 learning phase for 'test'\u001b[39;00m\n\u001b[1;32m--> 143\u001b[0m computed_values \u001b[39m=\u001b[39m \u001b[39mself\u001b[39;49m\u001b[39m.\u001b[39;49mcompute_fn([seed_input, \u001b[39m0\u001b[39;49m])\n\u001b[0;32m    144\u001b[0m losses \u001b[39m=\u001b[39m computed_values[:\u001b[39mlen\u001b[39m(\u001b[39mself\u001b[39m\u001b[39m.\u001b[39mloss_names)]\n\u001b[0;32m    145\u001b[0m named_losses \u001b[39m=\u001b[39m \u001b[39mzip\u001b[39m(\u001b[39mself\u001b[39m\u001b[39m.\u001b[39mloss_names, losses)\n",
      "File \u001b[1;32mc:\\Users\\abhishek.sri\\AppData\\Local\\anaconda3\\envs\\pytorch\\Lib\\site-packages\\keras\\src\\backend.py:4607\u001b[0m, in \u001b[0;36mGraphExecutionFunction.__call__\u001b[1;34m(self, inputs)\u001b[0m\n\u001b[0;32m   4598\u001b[0m \u001b[39m# Refresh callable if anything has changed.\u001b[39;00m\n\u001b[0;32m   4599\u001b[0m \u001b[39mif\u001b[39;00m (\n\u001b[0;32m   4600\u001b[0m     \u001b[39mself\u001b[39m\u001b[39m.\u001b[39m_callable_fn \u001b[39mis\u001b[39;00m \u001b[39mNone\u001b[39;00m\n\u001b[0;32m   4601\u001b[0m     \u001b[39mor\u001b[39;00m feed_arrays \u001b[39m!=\u001b[39m \u001b[39mself\u001b[39m\u001b[39m.\u001b[39m_feed_arrays\n\u001b[1;32m   (...)\u001b[0m\n\u001b[0;32m   4605\u001b[0m     \u001b[39mor\u001b[39;00m session \u001b[39m!=\u001b[39m \u001b[39mself\u001b[39m\u001b[39m.\u001b[39m_session\n\u001b[0;32m   4606\u001b[0m ):\n\u001b[1;32m-> 4607\u001b[0m     \u001b[39mself\u001b[39;49m\u001b[39m.\u001b[39;49m_make_callable(feed_arrays, feed_symbols, symbol_vals, session)\n\u001b[0;32m   4609\u001b[0m fetched \u001b[39m=\u001b[39m \u001b[39mself\u001b[39m\u001b[39m.\u001b[39m_callable_fn(\u001b[39m*\u001b[39marray_vals, run_metadata\u001b[39m=\u001b[39m\u001b[39mself\u001b[39m\u001b[39m.\u001b[39mrun_metadata)\n\u001b[0;32m   4610\u001b[0m \u001b[39mself\u001b[39m\u001b[39m.\u001b[39m_call_fetch_callbacks(fetched[\u001b[39m-\u001b[39m\u001b[39mlen\u001b[39m(\u001b[39mself\u001b[39m\u001b[39m.\u001b[39m_fetches) :])\n",
      "File \u001b[1;32mc:\\Users\\abhishek.sri\\AppData\\Local\\anaconda3\\envs\\pytorch\\Lib\\site-packages\\keras\\src\\backend.py:4532\u001b[0m, in \u001b[0;36mGraphExecutionFunction._make_callable\u001b[1;34m(self, feed_arrays, feed_symbols, symbol_vals, session)\u001b[0m\n\u001b[0;32m   4530\u001b[0m     callable_opts\u001b[39m.\u001b[39mrun_options\u001b[39m.\u001b[39mCopyFrom(\u001b[39mself\u001b[39m\u001b[39m.\u001b[39mrun_options)\n\u001b[0;32m   4531\u001b[0m \u001b[39m# Create callable.\u001b[39;00m\n\u001b[1;32m-> 4532\u001b[0m callable_fn \u001b[39m=\u001b[39m session\u001b[39m.\u001b[39;49m_make_callable_from_options(callable_opts)\n\u001b[0;32m   4533\u001b[0m \u001b[39m# Cache parameters corresponding to the generated callable, so that\u001b[39;00m\n\u001b[0;32m   4534\u001b[0m \u001b[39m# we can detect future mismatches and refresh the callable.\u001b[39;00m\n\u001b[0;32m   4535\u001b[0m \u001b[39mself\u001b[39m\u001b[39m.\u001b[39m_callable_fn \u001b[39m=\u001b[39m callable_fn\n",
      "File \u001b[1;32mc:\\Users\\abhishek.sri\\AppData\\Local\\anaconda3\\envs\\pytorch\\Lib\\site-packages\\tensorflow\\python\\client\\session.py:1538\u001b[0m, in \u001b[0;36mBaseSession._make_callable_from_options\u001b[1;34m(self, callable_options)\u001b[0m\n\u001b[0;32m   1528\u001b[0m \u001b[39m\u001b[39m\u001b[39m\"\"\"Returns a handle to a \"callable\" with the given options.\u001b[39;00m\n\u001b[0;32m   1529\u001b[0m \n\u001b[0;32m   1530\u001b[0m \u001b[39mArgs:\u001b[39;00m\n\u001b[1;32m   (...)\u001b[0m\n\u001b[0;32m   1535\u001b[0m \u001b[39m  A handle to the new callable.\u001b[39;00m\n\u001b[0;32m   1536\u001b[0m \u001b[39m\"\"\"\u001b[39;00m\n\u001b[0;32m   1537\u001b[0m \u001b[39mself\u001b[39m\u001b[39m.\u001b[39m_extend_graph()\n\u001b[1;32m-> 1538\u001b[0m \u001b[39mreturn\u001b[39;00m BaseSession\u001b[39m.\u001b[39;49m_Callable(\u001b[39mself\u001b[39;49m, callable_options)\n",
      "File \u001b[1;32mc:\\Users\\abhishek.sri\\AppData\\Local\\anaconda3\\envs\\pytorch\\Lib\\site-packages\\tensorflow\\python\\client\\session.py:1496\u001b[0m, in \u001b[0;36mBaseSession._Callable.__init__\u001b[1;34m(self, session, callable_options)\u001b[0m\n\u001b[0;32m   1493\u001b[0m options_ptr \u001b[39m=\u001b[39m tf_session\u001b[39m.\u001b[39mTF_NewBufferFromString(\n\u001b[0;32m   1494\u001b[0m     compat\u001b[39m.\u001b[39mas_bytes(callable_options\u001b[39m.\u001b[39mSerializeToString()))\n\u001b[0;32m   1495\u001b[0m \u001b[39mtry\u001b[39;00m:\n\u001b[1;32m-> 1496\u001b[0m   \u001b[39mself\u001b[39m\u001b[39m.\u001b[39m_handle \u001b[39m=\u001b[39m tf_session\u001b[39m.\u001b[39;49mTF_SessionMakeCallable(\n\u001b[0;32m   1497\u001b[0m       session\u001b[39m.\u001b[39;49m_session, options_ptr)\n\u001b[0;32m   1498\u001b[0m \u001b[39mfinally\u001b[39;00m:\n\u001b[0;32m   1499\u001b[0m   tf_session\u001b[39m.\u001b[39mTF_DeleteBuffer(options_ptr)\n",
      "\u001b[1;31mInvalidArgumentError\u001b[0m: input_2:0 is both fed and fetched."
     ]
    }
   ],
   "source": [
    "import tensorflow as tf\n",
    "tf.compat.v1.disable_eager_execution()\n",
    "\n",
    "from keras.applications import VGG16\n",
    "\n",
    "import collections.abc\n",
    "collections.Iterable = collections.abc.Iterable\n",
    "collections.Mapping = collections.abc.Mapping\n",
    "collections.MutableSet = collections.abc.MutableSet\n",
    "collections.MutableMapping = collections.abc.MutableMapping\n",
    "\n",
    "from vis.losses import ActivationMaximization\n",
    "from vis.regularizers import TotalVariation, LPNorm\n",
    "from vis.input_modifiers import Jitter\n",
    "from vis.optimizer import Optimizer\n",
    "from vis.callbacks import GifGenerator\n",
    "\n",
    "# Build the VGG16 network with ImageNet weights\n",
    "model = VGG16(weights='imagenet', include_top=True)\n",
    "print('Model loaded.')\n",
    "\n",
    "# The name of the layer we want to visualize\n",
    "# (see model definition in vggnet.py)\n",
    "layer_name = 'predictions'\n",
    "layer_dict = dict([(layer.name, layer) for layer in model.layers[1:]])\n",
    "output_class = [20]\n",
    "\n",
    "losses = [\n",
    "    (ActivationMaximization(layer_dict[layer_name], output_class), 2),\n",
    "    (LPNorm(model.input), 10),\n",
    "    (TotalVariation(model.input), 10)\n",
    "]\n",
    "opt = Optimizer(model.input, losses)\n",
    "opt.minimize(max_iter=500, verbose=True, input_modifiers=[Jitter()], callbacks=[GifGenerator('opt_progress')])\n"
   ]
  }
 ],
 "metadata": {
  "kernelspec": {
   "display_name": "pytorch",
   "language": "python",
   "name": "python3"
  },
  "language_info": {
   "codemirror_mode": {
    "name": "ipython",
    "version": 3
   },
   "file_extension": ".py",
   "mimetype": "text/x-python",
   "name": "python",
   "nbconvert_exporter": "python",
   "pygments_lexer": "ipython3",
   "version": "3.11.4"
  }
 },
 "nbformat": 4,
 "nbformat_minor": 2
}
